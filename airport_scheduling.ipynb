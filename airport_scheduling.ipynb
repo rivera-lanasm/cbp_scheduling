{
 "cells": [
  {
   "cell_type": "markdown",
   "metadata": {},
   "source": [
    "## Airport Scheduling Problem \n",
    "\n",
    "### simplifying assumptions\n",
    "- airport only \"open\" between 6:00 AM and 11:59 PM  \n",
    "\n",
    "\n",
    "### Process Description \n",
    "* The airport environment is modelled as a Markov Decision Process, including\n",
    "    * Stages / Time: $t$\n",
    "        * Time steps in hours\n",
    "        * $t = 0, 1, 2, ..., T$\n",
    "    * States: $x_t$\n",
    "        * Number of arriving passengers waiting in the queue (customs) given time step\n",
    "        * $x_t = 0, 1, 2, ..., \\text{waiting capacity}$\n",
    "    * Actions: $u_t$\n",
    "        * Number of on-demand customs officers to hire given time step\n",
    "        * Is not defined for $t=T$ (airport closed)\n",
    "        * $u_t = 0, 1, 2, ..., \\text{max number of customs officers}$\n",
    "    * Transitions: $f_t(x_t, u_t)$\n",
    "        * Characterisation of state in next period\n",
    "        * $x_{t+1}=f(x_t,u_t)=[x_t+d_t-2(u_t+10)]^+$\n",
    "            * $d_t$ is the number of passengers arriving to customs area in the current hour\n",
    "                * Follows:\n",
    "                    * 1) the poisson distribution at t for a stochastic transition, where lambdas are modeled from historical data\n",
    "                      2) a deterministic arrival schedule based on historical data\n",
    "            * The formula assmued airport already has 2 permanent customs officers, and each doctor on average can treat 15 patients per hour\n",
    "    * Costs: $g_t, g_T$\n",
    "        * Cost per Stage: $g_t(x_t, u_t)$\n",
    "            * If Cost of on-demand customs officer is 500/doc-hour; cost of one passenger waiting per hour is 30:\n",
    "                * $g_t(x_t, u_t) = 500u_t + 30x_t$\n",
    "        * Terminal Cost: $g_T(x_T)$\n",
    "            * If there are still passengers waiting at the end of the day, the airport will incur a cost of 300 per passenger:\n",
    "                * $g_T(x_T) = 300x_T$\n",
    "            \n",
    "    \n",
    "\n"
   ]
  },
  {
   "cell_type": "markdown",
   "metadata": {},
   "source": [
    "### Here we solve the airport scheduling problem backward induction.\n",
    "\n",
    "\n",
    "- Clinic opens at 8am, and closes at 8pm\n",
    "- w = 200 (patient waiting cost, per patient per hour)\n",
    "- W = 400 (abandonment cost of not treating a patient)\n",
    "- wage = 500 per on-demand doctor per hour (there are 10 doctors already scheduled for each hour, and you can ignore their wage since that doesn't change the calculations)\n",
    "- patient arrival process: at the beginning of every hour t, D_t patients arrive. All the D_t's are i.i.d. Poisson random variables with lambda = 5.\n",
    "- The initial number of patient (x_1) is anywhere between 0 and 70. (Think of these patients as having arrived before 8am and been waiting)"
   ]
  },
  {
   "cell_type": "code",
   "execution_count": 1,
   "metadata": {},
   "outputs": [],
   "source": [
    "'''\n",
    "Building the Airport Environment\n",
    "'''\n",
    "\n",
    "from hospital_env import HospitalEnv as AirportEnv\n",
    "import numpy as np\n",
    "import pandas as pd\n",
    "import seaborn as sns\n",
    "from scipy.stats import poisson\n",
    "from matplotlib_inline.backend_inline import set_matplotlib_formats\n",
    "set_matplotlib_formats('svg', 'pdf')\n"
   ]
  },
  {
   "cell_type": "markdown",
   "metadata": {},
   "source": [
    "### Based on historical data, set lambdas for morning, afternoon, evening"
   ]
  },
  {
   "cell_type": "code",
   "execution_count": 2,
   "metadata": {},
   "outputs": [
    {
     "name": "stdout",
     "output_type": "stream",
     "text": [
      "24\n"
     ]
    }
   ],
   "source": [
    "# Set the mean (lambda) for the Poisson distribution\n",
    "lambda_morning = 6*[518] # 6AM-11AM\n",
    "lambda_afternoon = 6*[868] # 12PM-5PM\n",
    "lambda_evening = 6*[529] # 6PM - 11PM\n",
    "lambda_night = 6*[50]\n",
    "\n",
    "arrival_distrib = lambda_night+ lambda_morning + lambda_afternoon + lambda_evening\n",
    "\n",
    "# arrival_distrib\n",
    "\n",
    "print(len(arrival_distrib))\n",
    "\n",
    "# arrival_distrib\n"
   ]
  },
  {
   "cell_type": "markdown",
   "metadata": {},
   "source": [
    "## Parameterization\n",
    "\n",
    "- **work hours:** 6AM - 11PM (inclusive) --> 18 working hours\n",
    "- passenger waiting cost per hour --> 100\n",
    "- booth cost per hour --> 500\n",
    "- passenger queue capacity --> 2000\n",
    "- max on demand booths --> 15\n",
    "- passenger not attended by end of day cost --> 500\n",
    "- cost if passenger can't be incuded in queue  (queue overflow) --> 500\n",
    "- default queue length (queue at start of the day) --> 0\n"
   ]
  },
  {
   "cell_type": "code",
   "execution_count": 3,
   "metadata": {},
   "outputs": [],
   "source": [
    "# Initialize the environment\n",
    "arrival_distrib=arrival_distrib\n",
    "open_time=6\n",
    "work_hours=18\n",
    "passenger_waiting_cost=500\n",
    "booth_cost=100\n",
    "boot_fixed_cost = 250\n",
    "waiting_capacity=500\n",
    "max_on_demand_booth=50 \n",
    "passenger_not_attended_cost=1000\n",
    "default_queue_length=0\n",
    "\n",
    "# set up object \n",
    "airport_env = AirportEnv(arrival_distrib=arrival_distrib,\n",
    "                         open_time=open_time,\n",
    "                         work_hours=work_hours,\n",
    "                         patient_waiting_cost=passenger_waiting_cost,\n",
    "                         doc_cost=booth_cost,\n",
    "                         waiting_capacity=waiting_capacity,\n",
    "                         max_on_demand_doc=max_on_demand_booth,\n",
    "                         patient_not_treated_cost=passenger_not_attended_cost,\n",
    "                         default_queue_length=default_queue_length)"
   ]
  },
  {
   "cell_type": "markdown",
   "metadata": {},
   "source": [
    "### Run the Stochastic Backward Induction Algorithm"
   ]
  },
  {
   "cell_type": "code",
   "execution_count": 4,
   "metadata": {},
   "outputs": [],
   "source": [
    "'''\n",
    "Run the Stochastic Backward Induction Algorithm\n",
    "'''\n",
    "from BI_solver_sto import BISolverSto\n",
    "\n",
    "solver_sto = BISolverSto(env=airport_env)"
   ]
  },
  {
   "cell_type": "code",
   "execution_count": null,
   "metadata": {},
   "outputs": [
    {
     "name": "stdout",
     "output_type": "stream",
     "text": [
      "-----processing state 17\n",
      "index process took: 67.98\n",
      "-----processing state 16\n",
      "index process took: 70.205\n",
      "-----processing state 15\n",
      "index process took: 76.936\n",
      "-----processing state 14\n",
      "index process took: 75.997\n",
      "-----processing state 13\n",
      "index process took: 77.765\n",
      "-----processing state 12\n",
      "index process took: 68.814\n",
      "-----processing state 11\n",
      "index process took: 82.641\n",
      "-----processing state 10\n"
     ]
    }
   ],
   "source": [
    "'''\n",
    "Run the Stochastic Backward Induction Algorithm\n",
    "'''\n",
    "policy_sto, cost_sto = solver_sto.backward_induction()\n",
    "\n"
   ]
  },
  {
   "cell_type": "markdown",
   "metadata": {},
   "source": [
    "## Optimal Policy Visualized"
   ]
  },
  {
   "cell_type": "code",
   "execution_count": null,
   "metadata": {},
   "outputs": [],
   "source": [
    "airport_env.visualize_policy(policy_sto, \"Stochastic Policy\")"
   ]
  },
  {
   "cell_type": "markdown",
   "metadata": {},
   "source": [
    "##  cost-to-go: Summarizing Optimal Policy wrt Cost"
   ]
  },
  {
   "cell_type": "code",
   "execution_count": null,
   "metadata": {},
   "outputs": [],
   "source": [
    "heatmap = sns.heatmap(cost_sto, \n",
    "                      cmap=sns.diverging_palette(230, 20, as_cmap=True),\n",
    "                      yticklabels=5\n",
    "                      )"
   ]
  },
  {
   "cell_type": "markdown",
   "metadata": {},
   "source": [
    "## Apply optimal policy to real world data - What Cost Would the Terminal have Incurred from running this policy over the course of 2023?"
   ]
  },
  {
   "cell_type": "code",
   "execution_count": null,
   "metadata": {},
   "outputs": [],
   "source": [
    "def simulate(policy, env, arrival_dist_set):\n",
    "    '''\n",
    "    Simulate the environment with the given policy,\n",
    "    the policy must be a discrete table.\n",
    "\n",
    "    Return the average cost\n",
    "    '''\n",
    "    print(f\"[ Simulating for {len(arrival_dist_set)} episodes... ]\")\n",
    "\n",
    "    total_cost = 0\n",
    "\n",
    "    # Simulate the environment for num_sim times\n",
    "    for arr in arrival_dist_set:\n",
    "        # Reset the environment\n",
    "        x_t, _ = env.reset()\n",
    "        # overwrite arriaval dist\n",
    "        env.arrival_dist = arr\n",
    "        # set other vars\n",
    "        cost, done, t = 0, False, 0\n",
    "        # Iterate through all time steps\n",
    "        while not done:\n",
    "            # Take the action given by the policy\n",
    "            u_t = policy[x_t][t]\n",
    "            # Take a step in the environment\n",
    "            (x_t, _), step_cost, done = env.step(u_t)\n",
    "            cost += step_cost\n",
    "            t += 1\n",
    "        # Add the cost\n",
    "        total_cost += cost\n",
    "\n",
    "    return total_cost / num_sim"
   ]
  },
  {
   "cell_type": "code",
   "execution_count": null,
   "metadata": {},
   "outputs": [],
   "source": [
    "# extract hourly arrivals for every day in 2022\n",
    "\n",
    "# reset airport env to detemrinistic and overwrite arrival dist with real data\n",
    "\n"
   ]
  },
  {
   "cell_type": "code",
   "execution_count": null,
   "metadata": {},
   "outputs": [],
   "source": [
    "# simulate outcome if optimal policy was applied in 2022"
   ]
  },
  {
   "cell_type": "code",
   "execution_count": null,
   "metadata": {},
   "outputs": [],
   "source": []
  },
  {
   "cell_type": "code",
   "execution_count": null,
   "metadata": {},
   "outputs": [],
   "source": []
  },
  {
   "cell_type": "code",
   "execution_count": null,
   "metadata": {},
   "outputs": [],
   "source": []
  },
  {
   "cell_type": "code",
   "execution_count": null,
   "metadata": {},
   "outputs": [],
   "source": []
  },
  {
   "cell_type": "code",
   "execution_count": null,
   "metadata": {},
   "outputs": [],
   "source": []
  },
  {
   "cell_type": "code",
   "execution_count": null,
   "metadata": {},
   "outputs": [],
   "source": []
  },
  {
   "cell_type": "code",
   "execution_count": null,
   "metadata": {},
   "outputs": [],
   "source": []
  },
  {
   "cell_type": "markdown",
   "metadata": {},
   "source": [
    "### Sensitivity analysis: Change the values of w and W, and describe how the optimal policy changes as w and W changes. "
   ]
  },
  {
   "cell_type": "markdown",
   "metadata": {},
   "source": [
    "### Scenario 1 - High Cost of On Demand Doctors, Low Cost of Patient-Hour Wait\n",
    "\n",
    "- in this scenario we will keep constant the cost of on demand doctor hours and **halve** the cost of patient waiting cost (from 200 to 100)\n",
    "- as a result, the optimal policy suggests hiring on demand doctors at much higher patient queue threshholds compared to the optimal policy according to the original parameters. \n",
    "- The trend towards hiriing more on demand doctors towards the end of the working hours likely reflects the cost of untreated patients, which was kept constant in this scenario.\n",
    " "
   ]
  },
  {
   "cell_type": "code",
   "execution_count": null,
   "metadata": {},
   "outputs": [],
   "source": [
    "# Initialize the environment\n",
    "hospital_env = HospitalEnv(arrival_distrib=arrival_distrib,\n",
    "                            open_time=8,\n",
    "                            work_hours=12,\n",
    "                            patient_waiting_cost=100,\n",
    "                            doc_cost=500,\n",
    "                            waiting_capacity=60,\n",
    "                            max_on_demand_doc=10,\n",
    "                            patient_not_treated_cost=400,\n",
    "                            default_queue_length=50)\n",
    "\n",
    "\n",
    "solver_sto = BISolverSto(env=hospital_env)\n",
    "policy_sto, cost_sto = solver_sto.backward_induction()\n",
    "\n",
    "# \n",
    "hospital_env.visualize_policy(policy_sto, \"Stochastic Policy - Low Patient Waiting Cost\")\n",
    "\n"
   ]
  },
  {
   "cell_type": "markdown",
   "metadata": {},
   "source": [
    "### Scenario 2 - Low Cost of On Demand Doctors\n",
    "\n",
    "- in this scenario we will keep constant the cost of patient waiting costs, and lower the cost of on demand doctor hours (from 500 to 250)\n",
    "- as a result, the optimal policy suggests hiring on demand doctors at lower patient queue threshholds compared to the optimal policy according to the original parameters. \n"
   ]
  },
  {
   "cell_type": "code",
   "execution_count": null,
   "metadata": {},
   "outputs": [],
   "source": [
    "# Initialize the environment\n",
    "hospital_env = HospitalEnv(arrival_distrib=arrival_distrib,\n",
    "                            open_time=8,\n",
    "                            work_hours=12,\n",
    "                            patient_waiting_cost=200,\n",
    "                            doc_cost=250,\n",
    "                            waiting_capacity=60,\n",
    "                            max_on_demand_doc=10,\n",
    "                            patient_not_treated_cost=400,\n",
    "                            default_queue_length=50)\n",
    "\n",
    "\n",
    "solver_sto = BISolverSto(env=hospital_env)\n",
    "policy_sto, cost_sto = solver_sto.backward_induction()\n",
    "\n",
    "# \n",
    "hospital_env.visualize_policy(policy_sto, \"Stochastic Policy - Low Doctor Hour Cost\")\n",
    "\n"
   ]
  }
 ],
 "metadata": {
  "kernelspec": {
   "display_name": "Python 3 (ipykernel)",
   "language": "python",
   "name": "python3"
  },
  "language_info": {
   "codemirror_mode": {
    "name": "ipython",
    "version": 3
   },
   "file_extension": ".py",
   "mimetype": "text/x-python",
   "name": "python",
   "nbconvert_exporter": "python",
   "pygments_lexer": "ipython3",
   "version": "3.8.19"
  }
 },
 "nbformat": 4,
 "nbformat_minor": 4
}
